{
 "cells": [
  {
   "cell_type": "code",
   "execution_count": 35,
   "metadata": {
    "collapsed": false
   },
   "outputs": [],
   "source": [
    "def hex_to_bin(str):\n",
    "    return bin(int(str,16))\n",
    "#hex_to_bin('ae')"
   ]
  },
  {
   "cell_type": "code",
   "execution_count": null,
   "metadata": {
    "collapsed": true
   },
   "outputs": [],
   "source": []
  },
  {
   "cell_type": "code",
   "execution_count": 36,
   "metadata": {
    "collapsed": false
   },
   "outputs": [],
   "source": [
    "#word=input(\"enter 16 letters word\\t\")\n",
    "#hex_word=convert_word_hex(word)\n",
    "#(hex_word[0])"
   ]
  },
  {
   "cell_type": "code",
   "execution_count": 37,
   "metadata": {
    "collapsed": true
   },
   "outputs": [],
   "source": [
    "def convert_word_state(hex_word):\n",
    "    word1=[]\n",
    "    word2=[]\n",
    "    word3=[]\n",
    "    word4=[]\n",
    "    for i in range(16):\n",
    "        if(i<=3):\n",
    "            word1.append(hex_word[i])\n",
    "        elif(i>=4 and i<=7):\n",
    "            word2.append(hex_word[i])\n",
    "        elif(i>=8 and i<=11):\n",
    "            word3.append(hex_word[i])\n",
    "        else:\n",
    "            word4.append(hex_word[i])\n",
    "    state_matrix=[[word1[0],word2[0],word3[0],word4[0]],\n",
    "                  [word1[1],word2[1],word3[1],word4[1]],\n",
    "                    [word1[2],word2[2],word3[2],word4[2]],\n",
    "                      [word1[3],word2[3],word3[3],word4[3]]]\n",
    "    return state_matrix"
   ]
  },
  {
   "cell_type": "code",
   "execution_count": 38,
   "metadata": {
    "collapsed": false
   },
   "outputs": [],
   "source": [
    "#mat=convert_word_state(hex_word)\n",
    "#mat,mat_to_word(mat)"
   ]
  },
  {
   "cell_type": "markdown",
   "metadata": {},
   "source": [
    "# row shift"
   ]
  },
  {
   "cell_type": "code",
   "execution_count": 39,
   "metadata": {
    "collapsed": true
   },
   "outputs": [],
   "source": [
    "def row_shift(mat):\n",
    "    list1 = []\n",
    "    for i in range(4):\n",
    "        list2 = [] \n",
    "        for j in range(4):\n",
    "            if i==0:\n",
    "                list2.append(mat[i][j])\n",
    "            elif i==1:\n",
    "                list2.append(mat[i][(j+1)%4])\n",
    "            elif i==2:\n",
    "                list2.append(mat[i][(j+2)%4])\n",
    "            else:\n",
    "                list2.append(mat[i][(j+3)%4])\n",
    "        list1.append(list2)\n",
    "        #list2.clear()\n",
    "    return list1"
   ]
  },
  {
   "cell_type": "markdown",
   "metadata": {},
   "source": [
    "# sub-byte matrix"
   ]
  },
  {
   "cell_type": "code",
   "execution_count": 40,
   "metadata": {
    "collapsed": false
   },
   "outputs": [],
   "source": [
    "subByte = [[0x63, 0x7C, 0x77, 0x7B, 0xF2, 0x6B, 0x6F, 0xC5, 0x30, 0x01, 0x67, 0x2B, 0xFE, 0xD7, 0xAB, 0x76],\n",
    "    [0xCA, 0x82, 0xC9, 0x7D, 0xFA, 0x59, 0x47, 0xF0, 0xAD, 0xD4, 0xA2, 0xAF, 0x9C, 0xA4, 0x72, 0xC0],\n",
    "    [0xB7, 0xFD, 0x93, 0x26, 0x36, 0x3F, 0xF7, 0xCC, 0x34, 0xA5, 0xE5, 0xF1, 0x71, 0xD8, 0x31, 0x15],\n",
    "    [0x04, 0xC7, 0x23, 0xC3, 0x18, 0x96, 0x05, 0x9A, 0x07, 0x12, 0x80, 0xE2, 0xEB, 0x27, 0xB2, 0x75],\n",
    "    [0x09, 0x83, 0x2C, 0x1A, 0x1B, 0x6E, 0x5A, 0xA0, 0x52, 0x3B, 0xD6, 0xB3, 0x29, 0xE3, 0x2F, 0x84],\n",
    "    [0x53, 0xD1, 0x00, 0xED, 0x20, 0xFC, 0xB1, 0x5B, 0x6A, 0xCB, 0xBE, 0x39, 0x4A, 0x4C, 0x58, 0xCF],\n",
    "    [0xD0, 0xEF, 0xAA, 0xFB, 0x43, 0x4D, 0x33, -0x85, 0x45, 0xF9, 0x02, 0x7F, 0x50, 0x3C, 0x9F, 0xA8],\n",
    "    [0x51, 0xA3, 0x40, 0x8F, 0x92, 0x9D, 0x38, 0xF5, 0xBC, 0xB6, 0xDA, 0x21, 0x10, 0xFF, 0xF3, 0xD2],\n",
    "    [0xCD, 0x0C, 0x13, 0xEC, 0x5F, 0x97, 0x44, 0x17, 0xC4, 0xA7, 0x7E, 0x3D, 0x64, 0x5D, 0x19, 0x73],\n",
    "    [0x60, 0x81, 0x4F, 0xDC, 0x22, 0x2A, 0x90, 0x88, 0x46, 0xEE, 0xB8, 0x14, 0xDE, 0x5E, 0x0B, 0xDB],\n",
    "    [0xE0, 0x32, 0x3A, 0x0A, 0x49, 0x06, 0x24, 0x5C, 0xC2, 0xD3, 0xAC, 0x62, 0x91, 0x95, 0xE4, 0x79],\n",
    "    [0xE7, 0xC8, 0x37, 0x6D, 0x8D, 0xD5, 0x4E, 0xA9, 0x6C, 0x56, 0xF4, 0xEA, 0x65, 0x7A, 0xAE, 0x08],\n",
    "    [0xBA, 0x78, 0x25, 0x2E, 0x1C, 0xA6, 0xB4, 0xC6, 0xE8, 0xDD, 0x74, 0x1F, 0x4B, 0xBD, 0x8B, 0x8A],\n",
    "    [0x70, 0x3E, 0xB5, 0x66, 0x48, 0x03, 0xF6, 0x0E, 0x61, 0x35, 0x57, 0xB9, 0x86, 0xC1, 0x1D, 0x9E],\n",
    "    [0xE1, 0xF8, 0x98, 0x11, 0x69, 0xD9, 0x8E, 0x94, 0x9B, 0x1E, 0x87, 0xE9, 0xCE, 0x55, 0x28, 0xDF],\n",
    "    [0x8C, 0xA1, 0x89, 0x0D, 0xBF, 0xE6, 0x42, 0x68, 0x41, 0x99, 0x2D, 0x0F, 0xB0, 0x54, 0xBB, 0x16]]"
   ]
  },
  {
   "cell_type": "code",
   "execution_count": 41,
   "metadata": {
    "collapsed": true
   },
   "outputs": [],
   "source": [
    "\n",
    "def replace_subByte(mat,subByte):\n",
    "    #map_index=dict(zip((\"0\",\"1\",\"2\",\"3\",\"4\",\"5\",\"6\",\"7\",\"8\",\"9\",\"a\",\"b\",\"c\",\"d\",\"e\",\"f\"),range(0,16,1)))\n",
    "    list1=[]\n",
    "    for i in range(4):\n",
    "        list2=[]\n",
    "        for j in range(4):\n",
    "            x=hex(subByte[int(mat[i][j][:1],16)][int(mat[i][j][1:],16)])[2:]\n",
    "            list2.append(x)\n",
    "        list1.append(list2)\n",
    "    return list1"
   ]
  },
  {
   "cell_type": "code",
   "execution_count": 42,
   "metadata": {
    "collapsed": false
   },
   "outputs": [],
   "source": [
    "#replace_subByte(mat,subByte)\n",
    "\n",
    " "
   ]
  },
  {
   "cell_type": "code",
   "execution_count": 43,
   "metadata": {
    "collapsed": false
   },
   "outputs": [],
   "source": [
    "t_mat=['AD20177D','470678DB','31DA48D0','47AB5B7D','6C762D20','52C4F80D','E4133523','8CE29268','0A5E4F61','3FC6CD99']"
   ]
  },
  {
   "cell_type": "code",
   "execution_count": 44,
   "metadata": {
    "collapsed": false
   },
   "outputs": [],
   "source": [
    "#key=input(\"enter 16 letters key\")"
   ]
  },
  {
   "cell_type": "code",
   "execution_count": 45,
   "metadata": {
    "collapsed": false
   },
   "outputs": [],
   "source": [
    "def func_xor(a,b):\n",
    "    x=bin(int(a,16))[2:]\n",
    "    y=bin(int(b,16))[2:]\n",
    "    z = int(x,2) ^ int(y,2)\n",
    "    return ('{0:b}'.format(z))\n",
    "\n",
    "def key_len_correction1(key_str):\n",
    "    #keyF=\"\"\n",
    "    keyInit=hex_to_bin(key_str)[2:]\n",
    "    l=len(keyInit)\n",
    "    length=128-l\n",
    "    for i in range(length):\n",
    "        keyInit=\"0\"+keyInit\n",
    "    return keyInit\n",
    "\n",
    "def key_len_correction2(key_str):\n",
    "    #keyF=\"\"\n",
    "    keyInit=key_str\n",
    "    l=len(keyInit)\n",
    "    length=32-l\n",
    "    for i in range(length):\n",
    "        keyInit=\"0\"+keyInit\n",
    "    #print(keyInit)\n",
    "    return keyInit\n",
    "\n",
    "def str_to_matrix(text):\n",
    "    text=hex(int(text,2))\n",
    "    text=text[2:]\n",
    "    str=\"\"\n",
    "    mat=[]\n",
    "    for i in range(0,32,2):\n",
    "        str=text[i]\n",
    "        str=str+text[i+1]\n",
    "        mat.append(str)\n",
    "    return (mat)\n",
    "\n",
    "def hex_to_asc(x):\n",
    "    asc=[]\n",
    "    for i in range(16):\n",
    "        c=(bytearray.fromhex(x[i]).decode())\n",
    "        asc.append(c)\n",
    "    str=''.join(asc)\n",
    "    return str\n",
    "\n",
    "def key_len_correction3(key_str):\n",
    "    #keyF=\"\"\n",
    "    keyInit=key_str\n",
    "    l=len(keyInit)\n",
    "    length=32-l\n",
    "    for i in range(length):\n",
    "        keyInit=\"0\"+keyInit\n",
    "    #print(keyInit)\n",
    "    return keyInit\n",
    "\n",
    "def func_xor1(a,b):\n",
    "    z = int(a,2) ^ int(b,2)\n",
    "    d= '{0:b}'.format(z)\n",
    "    return(key_len_correction3(d))\n",
    "\n",
    "def func_xor2(a,b):\n",
    "    z = int(a,2) ^ int(b,2)\n",
    "    d= '{0:b}'.format(z)\n",
    "    return(key_len_correction(d))\n",
    "\n",
    "def convert_word_hex(word):\n",
    "    hex_word=[]\n",
    "    str=\"\"\n",
    "    for c in word:\n",
    "        hex_word.append(format(ord(c), \"x\"))\n",
    "    str = ''.join(hex_word)\n",
    "    return hex_word\n",
    "\n",
    "def key_len_correction(key_str):\n",
    "    #keyF=\"\"\n",
    "    keyInit=key_str\n",
    "    l=len(keyInit)\n",
    "    length=128-l\n",
    "    for i in range(length):\n",
    "        keyInit=\"0\"+keyInit\n",
    "    #print(keyInit)\n",
    "    return keyInit\n",
    "\n",
    "def con_asc_bin(str):\n",
    "    list=[]\n",
    "    for c in range(len(str)):\n",
    "        h=(format(ord(str[c]), \"x\"))\n",
    "        #print(h)\n",
    "        list.append(h)\n",
    "    str1=''.join(list)\n",
    "    #print(type(str1))\n",
    "    str2=bin(int(str1,16))[2:]\n",
    "    return key_len_correction(str2)"
   ]
  },
  {
   "cell_type": "code",
   "execution_count": 46,
   "metadata": {
    "collapsed": false
   },
   "outputs": [],
   "source": [
    "def round_key_gen(key,t_mat,rnd):\n",
    "    t_str=bin(int(t_mat[rnd],16))\n",
    "    t_str=t_str[2:]\n",
    "    t_str=key_len_correction(t_str)\n",
    "    key1_str=''\n",
    "    key2_str=''\n",
    "    key3_str=''\n",
    "    key4_str=''\n",
    "    #print((str1))\n",
    "    for i in range(128):\n",
    "        if(i<=31):\n",
    "            key1_str=key1_str+key[i]\n",
    "        elif(i>=32 and i<=63):\n",
    "            key2_str=key2_str+key[i]\n",
    "        elif(i>=64 and i<=95):\n",
    "            key3_str=key3_str+key[i]\n",
    "        else:\n",
    "             key4_str=key4_str+key[i]\n",
    "    #print((key1_str))\n",
    "    #print(key1_str,key2_str,key3_str,key4_str)\n",
    "    key1_str= func_xor1(t_str,key1_str)\n",
    "    #print(key1_str)\n",
    "    key2_str= func_xor1(key1_str,key2_str)\n",
    "    #print((key2_str))\n",
    "    key3_str= func_xor1(key2_str,key3_str)\n",
    "    #print((key3_str))\n",
    "    key4_str= func_xor1(key3_str,key4_str)\n",
    "    #print((key4_str))\n",
    "    final_key= key1_str + key2_str + key3_str + key4_str\n",
    "    #print(final_key)\n",
    "    return final_key   "
   ]
  },
  {
   "cell_type": "code",
   "execution_count": 47,
   "metadata": {
    "collapsed": false
   },
   "outputs": [],
   "source": [
    "str='ttcfgjjhifgfffgi'\n",
    "key=con_asc_bin(str)\n",
    "#round_key_gen(key,t_mat,0),round_key_gen(key,t_mat,1)"
   ]
  },
  {
   "cell_type": "code",
   "execution_count": 48,
   "metadata": {
    "collapsed": false
   },
   "outputs": [],
   "source": [
    "#round_key_gen(key,t_mat,1)"
   ]
  },
  {
   "cell_type": "code",
   "execution_count": 49,
   "metadata": {
    "collapsed": true
   },
   "outputs": [],
   "source": [
    "def mat_to_word1(mat):\n",
    "    st_word_mat=[mat[0][0],mat[1][0],mat[2][0],mat[3][0],mat[0][1],mat[1][1],mat[2][1],mat[3][1],mat[0][2],mat[1][2],mat[2][2],mat[3][2],\n",
    "            mat[0][3],mat[1][3],mat[2][3],mat[3][3]]\n",
    "    return st_word_mat\n",
    "def mat_to_word2(mat):\n",
    "    st_word_mat=[mat[0][0][2:],mat[1][0][2:],mat[2][0][2:],mat[3][0][2:],mat[0][1][2:],mat[1][1][2:],mat[2][1][2:],mat[3][1][2:],mat[0][2][2:],mat[1][2][2:],mat[2][2][2:],mat[3][2][2:],\n",
    "            mat[0][3][2:],mat[1][3][2:],mat[2][3][2:],mat[3][3][2:]]\n",
    "    return st_word_mat"
   ]
  },
    {
   "cell_type": "code",
   "execution_count": 50,
   "metadata": {
    "collapsed": true
   },
   "outputs": [],
   "source": [
    "import numpy as np\n",
    "\n",
    "# Standard matrix used for AES MixColumn operation\n",
    "MIX_COL = np.array([[2, 3, 1, 1],\n",
    "                    [1, 2, 3, 1],\n",
    "                    [1, 1, 2, 3],\n",
    "                    [3, 1, 1, 2]])\n",
    "\n",
    "#print(MIX_COL[:,0:1])\n",
    "\n",
    "# galois multiplication operation (GF2)\n",
    "def galois_col(mat):\n",
    "    col_ = []\n",
    "    for i in range(4):\n",
    "        S = MIX_COL[i:i+1,:]\n",
    "        list1 = []\n",
    "        for j in range(4):\n",
    "            list1 = reduce_list(list1 , multPoly(S[0,j], mat[j,0]))\n",
    "        num = 0\n",
    "        for i in range(len(list1)):\n",
    "            num = num ^ (1<<list1[i])\n",
    "        while(len(bin(num))>10):\n",
    "            num = num ^ int('0b100011011',2)\n",
    "        col_.append(hex(int(bin(num), 2)))\n",
    "        #print(hex(int(bin(num), 2)))\n",
    "        #print(bin(num))\n",
    "    #print(col_)\n",
    "    \n",
    "    return col_\n",
    "\n",
    "# function to perform MixColumn operation\n",
    "def col_mix(mat):\n",
    "    mat = np.array(mat)\n",
    "    col_mix_list = []\n",
    "    col_ = []\n",
    "    for i in range(4):\n",
    "        col_ = galois_col(mat[:,i:i+1])\n",
    "        # adding the result from galois multiplication column wise\n",
    "        # if list is empty, concatenate the result \n",
    "        # else if list is not empty add the result column wise, not row wise\n",
    "        if len(col_mix_list)==0:\n",
    "            col_mix_list = col_mix_list + col_\n",
    "        else:\n",
    "            col_mix_list = np.column_stack((col_mix_list, col_)) \n",
    "    # print (col_mix_list)\n",
    "    return col_mix_list\n",
    "\n",
    "# removes the elements which occur in both lists\n",
    "# same element pair during galois multiplication cancel each other\n",
    "def reduce_list(list1, list2):\n",
    "    return list(set(list(set(list1).union(set(list2))))  - set(list(set(list1).intersection(set(list2)))))   \n",
    "\n",
    "# function to perform polynomial multiplication\n",
    "# eg. x^7 + x^6 + x^3 + x^1 + 1 = [7, 6, 3, 1, 0]\n",
    "def multPoly(p, q):\n",
    "    list1 = []\n",
    "    list2 = []\n",
    "    if p==1:\n",
    "        list1.append(0)\n",
    "    elif p==2:\n",
    "        list1.append(1)\n",
    "    else:\n",
    "        list1.append(0)\n",
    "        list1.append(1)\n",
    "    # eg : convert string like 'A1' to binary string \n",
    "    # '0b11010111'[2:0] = 11010111\n",
    "    q_bin = bin(int(q, 16))[2:]\n",
    "    size = len(q_bin)\n",
    "    for i in range(size):\n",
    "        if q_bin[i]=='1':\n",
    "            list2.append(size-i-1)\n",
    "    # Multiplication of two polynomials\n",
    "    # check if the elements obtained after multiplication is already in the 'res' list then they cancel each other...\n",
    "    res = []\n",
    "    for i in range(len(list1)):\n",
    "        for j in range(len(list2)):\n",
    "            if res.count(list1[i]+list2[j])==0:\n",
    "                res.append(list1[i]+list2[j])\n",
    "            else:\n",
    "                res.remove(list1[i]+list2[j])\n",
    "    return res"
   ]
  },
  {
   "cell_type": "code",
   "execution_count": null,
   "metadata": {
    "collapsed": false
   },
   "outputs": [],
   "source": [
    "    "
   ]
  },
  {
   "cell_type": "code",
   "execution_count": 51,
   "metadata": {
    "collapsed": false
   },
   "outputs": [],
   "source": [
    "def rounds(key,word):\n",
    "    hex_word=convert_word_hex(word)\n",
    "    init_state_matrix=convert_word_state(hex_word)\n",
    "    s2=mat_to_word1(init_state_matrix)\n",
    "    s2=''.join(s2)\n",
    "    s2=bin(int(s2,16))[2:]\n",
    "    s2=key_len_correction(s2)\n",
    "    InitState_str=s2\n",
    "    #print((InitState_str))\n",
    "    #print(key)\n",
    "    \n",
    "    for i in range(10):\n",
    "        #print(i)\n",
    "        if(i<=8):\n",
    "            keyF=round_key_gen(key,t_mat,i)\n",
    "            key=keyF\n",
    "            #InitState_str=''.join(init_state_matrix)\n",
    "            #add round key\n",
    "            #print(InitState_str)\n",
    "            state=func_xor2(InitState_str,keyF)\n",
    "            #print((state))\n",
    "            text_mat=str_to_matrix(state)\n",
    "            #print(text_mat)\n",
    "            state_matrix=convert_word_state(text_mat)\n",
    "            #print(state_matrix)\n",
    "            state_matrix1=replace_subByte(state_matrix,subByte)\n",
    "            #print(state_matrix1)\n",
    "            state_matrix1= row_shift(state_matrix1)\n",
    "            #print(state_matrix1)\n",
    "            state_matrix1=col_mix(state_matrix1)\n",
    "            #print(state_matrix1)\n",
    "            #generate new initial_state_matrix and new key_Init\n",
    "            s1=mat_to_word2(state_matrix1)\n",
    "            #print(s1)\n",
    "            s1=''.join(s1)\n",
    "            s1=bin(int(s1,16))[2:]\n",
    "            InitState_str=key_len_correction(s1)\n",
    "            #print(InitState_str)\n",
    "            #print(key)\n",
    "        else:\n",
    "            keyF=round_key_gen(key,t_mat,i)\n",
    "            key=keyF\n",
    "            #InitState_str=''.join(init_state_matrix)\n",
    "            #add round key\n",
    "            #print(InitState_str)\n",
    "            state=func_xor2(InitState_str,keyF)\n",
    "            #print((state))\n",
    "            text_mat=str_to_matrix(state)\n",
    "            #print(text_mat)\n",
    "            state_matrix=convert_word_state(text_mat)\n",
    "            #print(state_matrix)\n",
    "            state_matrix1=replace_subByte(state_matrix,subByte)\n",
    "            #print(state_matrix1)\n",
    "            state_matrix1= row_shift(state_matrix1)\n",
    "            #print(state_matrix1)\n",
    "            #state_matrix1=col_mix(state_matrix1)\n",
    "            #print(state_matrix1)\n",
    "            #generate new initial_state_matrix and new key_Init\n",
    "            s1=mat_to_word1(state_matrix1)\n",
    "            #print(s1)\n",
    "            s1=''.join(s1)\n",
    "            s1=bin(int(s1,16))[2:]\n",
    "            InitState_str=key_len_correction(s1)\n",
    "            #print(InitState_str)\n",
    "            #print(key)\n",
    "    return InitState_str\n",
    "            "
   ]
  },
  {
   "cell_type": "markdown",
   "metadata": {},
   "source": [
    "# modes\n"
   ]
  },
  {
   "cell_type": "code",
   "execution_count": 52,
   "metadata": {
    "collapsed": false
   },
   "outputs": [],
   "source": [
    "#modes"
   ]
  },
  {
   "cell_type": "markdown",
   "metadata": {
    "collapsed": false
   },
   "source": [
    "# words"
   ]
  },
  {
   "cell_type": "code",
   "execution_count": 53,
   "metadata": {
    "collapsed": false
   },
   "outputs": [],
   "source": [
    "word1=\"abcdefghijklmnop\"\n",
    "word2=\"ponmlkjihgfedcba\""
   ]
  },
  {
   "cell_type": "markdown",
   "metadata": {
    "collapsed": false
   },
   "source": [
    "# ECB"
   ]
  },
  {
   "cell_type": "code",
   "execution_count": 54,
   "metadata": {
    "collapsed": false
   },
   "outputs": [],
   "source": [
    "#c_word=rounds(key,word1)+rounds(key,word2)\n",
    "#print((c_word))\n"
   ]
  },
  {
   "cell_type": "markdown",
   "metadata": {
    "collapsed": true
   },
   "source": [
    "# CBC"
   ]
  },
  {
   "cell_type": "code",
   "execution_count": 41,
   "metadata": {
    "collapsed": false
   },
   "outputs": [
    {
     "data": {
      "text/plain": [
       "'0000000000001100101110111100110110010001100001001100010111010001100010101010110000101101100000010100001000101100101011000110000111010011011010101011100101110110001001000001001111011100000110101100011011001010111011100010101000010011010000100011001101101110'"
      ]
     },
     "execution_count": 41,
     "metadata": {},
     "output_type": "execute_result"
    }
   ],
   "source": [
    "c_word=rounds(key,word1)\n",
    "c1_word=rounds(c_word,word2)\n",
    "c1_word\n",
    "c_final=c_word+c1_word\n",
    "c_final"
   ]
  },
  {
   "cell_type": "markdown",
   "metadata": {},
   "source": [
    "# PCBC"
   ]
  },
  {
   "cell_type": "code",
   "execution_count": 140,
   "metadata": {
    "collapsed": false
   },
   "outputs": [
    {
     "data": {
      "text/plain": [
       "\"c_word=rounds(key,word1)\\nprint(c_word)\\n\\nz=convert_word_hex(word1)\\nstr5=''.join(z)\\nstr5\\nc=bin(int(str5,16))\\nc=c[2:]\\nc=key_len_correction(c)\\n#print(c)\\n\\nrt=func_xor2(c_word,c)\\n\\n\\ny=convert_word_hex(word2)\\nstr6=''.join(y)\\nstr6\\nd=bin(int(str6,16))\\nd=d[2:]\\nd=key_len_correction(d)\\nprint(d)\\n\\nv=func_xor2(rt,d)\\nprint((v))\\n\\nc1_word=rounds(key,v)\""
      ]
     },
     "execution_count": 140,
     "metadata": {},
     "output_type": "execute_result"
    }
   ],
   "source": [
    "\"\"\"c_word=rounds(key,word1)\n",
    "print(c_word)\n",
    "\n",
    "z=convert_word_hex(word1)\n",
    "str5=''.join(z)\n",
    "str5\n",
    "c=bin(int(str5,16))\n",
    "c=c[2:]\n",
    "c=key_len_correction(c)\n",
    "#print(c)\n",
    "\n",
    "rt=func_xor2(c_word,c)\n",
    "\n",
    "\n",
    "y=convert_word_hex(word2)\n",
    "str6=''.join(y)\n",
    "str6\n",
    "d=bin(int(str6,16))\n",
    "d=d[2:]\n",
    "d=key_len_correction(d)\n",
    "print(d)\n",
    "\n",
    "v=func_xor2(rt,d)\n",
    "print((v))\n",
    "\n",
    "c1_word=rounds(key,v)\"\"\"\n"
   ]
  },
  {
   "cell_type": "markdown",
   "metadata": {},
   "source": []
  }
 ],
 "metadata": {
  "kernelspec": {
   "display_name": "Python 3",
   "language": "python",
   "name": "python3"
  },
  "language_info": {
   "codemirror_mode": {
    "name": "ipython",
    "version": 3
   },
   "file_extension": ".py",
   "mimetype": "text/x-python",
   "name": "python",
   "nbconvert_exporter": "python",
   "pygments_lexer": "ipython3",
   "version": "3.6.0"
  }
 },
 "nbformat": 4,
 "nbformat_minor": 2
}
